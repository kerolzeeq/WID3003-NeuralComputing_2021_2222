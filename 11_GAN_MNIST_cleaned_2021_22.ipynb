{
  "nbformat": 4,
  "nbformat_minor": 0,
  "metadata": {
    "colab": {
      "name": "11_GAN_MNIST_cleaned_2021_22.ipynb",
      "provenance": [],
      "collapsed_sections": [],
      "authorship_tag": "ABX9TyOVrw/qlhixTHo9nB0uOVfe"
    },
    "kernelspec": {
      "name": "python3",
      "display_name": "Python 3"
    },
    "language_info": {
      "name": "python"
    },
    "accelerator": "GPU",
    "gpuClass": "standard"
  },
  "cells": [
    {
      "cell_type": "code",
      "source": [
        "#Source https://medium.com/intel-student-ambassadors/mnist-gan-detailed-step-by-step-explanation-implementation-in-code-ecc93b22dc60\n",
        "\n",
        "#https://github.com/lyeoni/pytorch-mnist-GAN/blob/master/pytorch-mnist-GAN.ipynb\n",
        "\n",
        "# Sebastian's GAN example uses quite a few helper functions. This code is as close as to what we've done so far"
      ],
      "metadata": {
        "id": "_-V07FdlaRyi"
      },
      "execution_count": null,
      "outputs": []
    },
    {
      "cell_type": "markdown",
      "source": [
        "#Example of a simple GAN\n",
        "\n",
        "In this example, the Discriminator and Generator components are both fully connected layers regularized by Dropout. In many architectures today, Convolution based GANs such as Deep Convolution GANs (DCGANs) are more popular.\n",
        "\n"
      ],
      "metadata": {
        "id": "CdOJzESQkICT"
      }
    },
    {
      "cell_type": "markdown",
      "source": [
        "### 1. Dependencies, datasets, dataloaders."
      ],
      "metadata": {
        "id": "McWwNbUxjbij"
      }
    },
    {
      "cell_type": "code",
      "execution_count": null,
      "metadata": {
        "id": "VM_I2kslZAZy"
      },
      "outputs": [],
      "source": [
        "\n",
        "# prerequisites\n",
        "import torch\n",
        "import torch.nn as nn\n",
        "import torch.nn.functional as F\n",
        "import torch.optim as optim\n",
        "from torchvision import datasets, transforms\n",
        "from torch.autograd import Variable\n",
        "from torchvision.utils import save_image\n",
        "from torch.utils.data import DataLoader\n",
        "\n",
        "# Device configuration\n",
        "device = torch.device('cuda' if torch.cuda.is_available() else 'cpu')\n",
        "batchSize = 100\n",
        "\n",
        "#I'm using the transform that we've been using so far in the course as opposed to what the original sources are using\n",
        "transform = transforms.Compose([\n",
        "                                transforms.ToTensor(), #this convert to tensor\n",
        "                                transforms.Lambda(lambda x:x.view(-1))  #this flatten 28*28 into a 784 vector for each image\n",
        "])\n",
        "\n",
        "train_dataset = datasets.MNIST(root='./mnist_data/', train=True, transform=transform, download=True)\n",
        "test_dataset = datasets.MNIST(root='./mnist_data/', train=False, transform=transform, download=False)\n",
        "\n",
        "# Data Loader (Input Pipeline)\n",
        "train_loader = DataLoader(dataset=train_dataset, batch_size=batchSize, shuffle=True)\n",
        "test_loader = DataLoader(dataset=test_dataset, batch_size=batchSize, shuffle=False)\n"
      ]
    },
    {
      "cell_type": "markdown",
      "source": [
        "### 2. Define Discriminator and Generator Networks"
      ],
      "metadata": {
        "id": "rCnp6a-biujv"
      }
    },
    {
      "cell_type": "code",
      "source": [
        "class Generator(nn.Module):\n",
        "    def __init__(self, g_input_dim, g_output_dim):\n",
        "        super(Generator, self).__init__()       \n",
        "        self.fc1 = nn.Linear(g_input_dim, 256)\n",
        "        self.fc2 = nn.Linear(self.fc1.out_features, self.fc1.out_features*2)\n",
        "        self.fc3 = nn.Linear(self.fc2.out_features, self.fc2.out_features*2)\n",
        "        self.fc4 = nn.Linear(self.fc3.out_features, g_output_dim)\n",
        "    \n",
        "    # forward method\n",
        "    def forward(self, x): \n",
        "        x = F.leaky_relu(self.fc1(x), 0.2)\n",
        "        x = F.leaky_relu(self.fc2(x), 0.2)\n",
        "        x = F.leaky_relu(self.fc3(x), 0.2)\n",
        "        return torch.tanh(self.fc4(x))\n",
        "    \n",
        "class Discriminator(nn.Module):\n",
        "    def __init__(self, d_input_dim):\n",
        "        super(Discriminator, self).__init__()\n",
        "        self.fc1 = nn.Linear(d_input_dim, 1024)\n",
        "        self.fc2 = nn.Linear(self.fc1.out_features, self.fc1.out_features//2)\n",
        "        self.fc3 = nn.Linear(self.fc2.out_features, self.fc2.out_features//2)\n",
        "        self.fc4 = nn.Linear(self.fc3.out_features, 1)\n",
        "    \n",
        "    # forward method\n",
        "    def forward(self, x):\n",
        "        x = F.leaky_relu(self.fc1(x), 0.2)\n",
        "        x = F.dropout(x, 0.3)\n",
        "        x = F.leaky_relu(self.fc2(x), 0.2)\n",
        "        x = F.dropout(x, 0.3)\n",
        "        x = F.leaky_relu(self.fc3(x), 0.2)\n",
        "        x = F.dropout(x, 0.3)\n",
        "        return torch.sigmoid(self.fc4(x))\n"
      ],
      "metadata": {
        "id": "OO8Hxrryh_zZ"
      },
      "execution_count": null,
      "outputs": []
    },
    {
      "cell_type": "markdown",
      "source": [
        "## 3. Define functions for training Disciminator and Generator\n",
        "\n",
        "Pay attention to how the losses are defined. "
      ],
      "metadata": {
        "id": "2hsxaz8oi4wq"
      }
    },
    {
      "cell_type": "code",
      "source": [
        "def D_train(x):\n",
        "    #=======================Train the discriminator=======================#\n",
        "    D.zero_grad()\n",
        "\n",
        "    # train discriminator on real\n",
        "    x_real, y_real = x.view(-1, mnist_dim), torch.ones(batchSize, 1)\n",
        "    x_real, y_real = Variable(x_real.to(device)), Variable(y_real.to(device))\n",
        "\n",
        "    D_output = D(x_real)\n",
        "    D_real_loss = criterion(D_output, y_real)\n",
        "    D_real_score = D_output\n",
        "\n",
        "    # train discriminator on fake\n",
        "    z = Variable(torch.randn(batchSize, z_dim).to(device))\n",
        "    x_fake, y_fake = G(z), Variable(torch.zeros(batchSize, 1).to(device))\n",
        "\n",
        "    D_output = D(x_fake)\n",
        "    D_fake_loss = criterion(D_output, y_fake)\n",
        "    D_fake_score = D_output\n",
        "\n",
        "    # gradient backprop & optimize ONLY D's parameters\n",
        "    D_loss = D_real_loss + D_fake_loss   #IMPORTANT!!\n",
        "    D_loss.backward()\n",
        "    D_optimizer.step()\n",
        "        \n",
        "    return  D_loss.data.item()\n",
        "\n",
        "\n",
        "def G_train(x):\n",
        "    #=======================Train the generator=======================#\n",
        "    G.zero_grad()\n",
        "\n",
        "    z = Variable(torch.randn(batchSize, z_dim).to(device))\n",
        "    y = Variable(torch.ones(batchSize, 1).to(device)) #\"flipping labels\". Labels are supposed to be 0 (fake) but we are labelling as 1 (true)\n",
        "\n",
        "    G_output = G(z)\n",
        "    D_output = D(G_output)\n",
        "    G_loss = criterion(D_output, y)\n",
        "\n",
        "    # gradient backprop & optimize ONLY G's parameters\n",
        "    G_loss.backward()\n",
        "    G_optimizer.step()\n",
        "        \n",
        "    return G_loss.data.item()\n"
      ],
      "metadata": {
        "id": "XN_522IPh-0q"
      },
      "execution_count": null,
      "outputs": []
    },
    {
      "cell_type": "markdown",
      "source": [
        "## 4. Declare model, loss, optimizer"
      ],
      "metadata": {
        "id": "oRrLi5XxjDj6"
      }
    },
    {
      "cell_type": "code",
      "source": [
        "# build network\n",
        "z_dim = 100\n",
        "mnist_dim = train_dataset.train_data.size(1) * train_dataset.train_data.size(2)\n",
        "\n",
        "#The dimensions are set as same as the original GAN paper if I'm correct\n",
        "G = Generator(g_input_dim = z_dim, g_output_dim = mnist_dim).to(device)\n",
        "D = Discriminator(mnist_dim).to(device)\n",
        "\n",
        "# loss\n",
        "criterion = nn.BCELoss() \n",
        "\n",
        "# optimizer\n",
        "lr = 0.0002 \n",
        "G_optimizer = optim.Adam(G.parameters(), lr = lr)\n",
        "D_optimizer = optim.Adam(D.parameters(), lr = lr)\n"
      ],
      "metadata": {
        "colab": {
          "base_uri": "https://localhost:8080/"
        },
        "id": "-riMHsADh_Mw",
        "outputId": "a92d2e33-f5e1-446a-8d61-b5d705dd4580"
      },
      "execution_count": null,
      "outputs": [
        {
          "output_type": "stream",
          "name": "stderr",
          "text": [
            "/usr/local/lib/python3.7/dist-packages/torchvision/datasets/mnist.py:75: UserWarning: train_data has been renamed data\n",
            "  warnings.warn(\"train_data has been renamed data\")\n"
          ]
        }
      ]
    },
    {
      "cell_type": "markdown",
      "source": [
        "### 5. Training\n",
        "\n",
        "As usual, this takes the longest. Change your settings to GPU.\n",
        "\n",
        "* Train Discriminator to identify real images\n",
        "* Train Discriminator to identify fake images\n",
        "* Train Generator to generate fake images that are real "
      ],
      "metadata": {
        "id": "NNHaKdUajK2a"
      }
    },
    {
      "cell_type": "code",
      "source": [
        "n_epoch = 200\n",
        "for epoch in range(1, n_epoch+1):           \n",
        "    D_losses, G_losses = [], []\n",
        "    for batch_idx, (x, _) in enumerate(train_loader):\n",
        "        D_losses.append(D_train(x))\n",
        "        G_losses.append(G_train(x))\n",
        "\n",
        "    print('[%d/%d]: loss_d: %.3f, loss_g: %.3f' % (\n",
        "            (epoch), n_epoch, torch.mean(torch.FloatTensor(D_losses)), torch.mean(torch.FloatTensor(G_losses))))\n",
        "\n",
        " "
      ],
      "metadata": {
        "colab": {
          "base_uri": "https://localhost:8080/"
        },
        "id": "4bLoH_eAiiiE",
        "outputId": "7136489f-1620-492e-a3c1-ab419b20777d"
      },
      "execution_count": null,
      "outputs": [
        {
          "output_type": "stream",
          "name": "stdout",
          "text": [
            "[1/200]: loss_d: 1.272, loss_g: 1.204\n",
            "[2/200]: loss_d: 0.889, loss_g: 2.890\n",
            "[3/200]: loss_d: 0.780, loss_g: 2.261\n",
            "[4/200]: loss_d: 0.674, loss_g: 2.275\n",
            "[5/200]: loss_d: 0.819, loss_g: 2.074\n",
            "[6/200]: loss_d: 0.751, loss_g: 2.254\n",
            "[7/200]: loss_d: 0.743, loss_g: 2.032\n",
            "[8/200]: loss_d: 0.793, loss_g: 1.980\n",
            "[9/200]: loss_d: 0.752, loss_g: 1.962\n",
            "[10/200]: loss_d: 0.786, loss_g: 1.925\n",
            "[11/200]: loss_d: 0.748, loss_g: 2.015\n",
            "[12/200]: loss_d: 0.802, loss_g: 1.855\n",
            "[13/200]: loss_d: 0.814, loss_g: 1.946\n",
            "[14/200]: loss_d: 0.777, loss_g: 1.994\n",
            "[15/200]: loss_d: 0.767, loss_g: 2.019\n",
            "[16/200]: loss_d: 0.758, loss_g: 1.962\n",
            "[17/200]: loss_d: 0.700, loss_g: 2.063\n",
            "[18/200]: loss_d: 0.760, loss_g: 2.131\n",
            "[19/200]: loss_d: 0.730, loss_g: 2.126\n",
            "[20/200]: loss_d: 0.705, loss_g: 2.099\n",
            "[21/200]: loss_d: 0.674, loss_g: 2.198\n",
            "[22/200]: loss_d: 0.669, loss_g: 2.165\n",
            "[23/200]: loss_d: 0.713, loss_g: 2.278\n",
            "[24/200]: loss_d: 0.671, loss_g: 2.118\n",
            "[25/200]: loss_d: 0.694, loss_g: 2.245\n",
            "[26/200]: loss_d: 0.643, loss_g: 2.342\n",
            "[27/200]: loss_d: 0.613, loss_g: 2.404\n",
            "[28/200]: loss_d: 0.601, loss_g: 2.440\n",
            "[29/200]: loss_d: 0.593, loss_g: 2.501\n",
            "[30/200]: loss_d: 0.574, loss_g: 2.521\n",
            "[31/200]: loss_d: 0.574, loss_g: 2.507\n",
            "[32/200]: loss_d: 0.587, loss_g: 2.471\n",
            "[33/200]: loss_d: 0.594, loss_g: 2.397\n",
            "[34/200]: loss_d: 0.562, loss_g: 2.449\n",
            "[35/200]: loss_d: 0.547, loss_g: 2.640\n",
            "[36/200]: loss_d: 0.549, loss_g: 2.624\n",
            "[37/200]: loss_d: 0.552, loss_g: 2.633\n",
            "[38/200]: loss_d: 0.490, loss_g: 2.847\n",
            "[39/200]: loss_d: 0.489, loss_g: 2.909\n",
            "[40/200]: loss_d: 0.470, loss_g: 2.944\n",
            "[41/200]: loss_d: 0.482, loss_g: 2.845\n",
            "[42/200]: loss_d: 0.477, loss_g: 2.992\n",
            "[43/200]: loss_d: 0.460, loss_g: 2.925\n",
            "[44/200]: loss_d: 0.423, loss_g: 3.143\n",
            "[45/200]: loss_d: 0.443, loss_g: 3.069\n",
            "[46/200]: loss_d: 0.431, loss_g: 3.091\n",
            "[47/200]: loss_d: 0.415, loss_g: 3.125\n",
            "[48/200]: loss_d: 0.433, loss_g: 3.196\n",
            "[49/200]: loss_d: 0.407, loss_g: 3.253\n",
            "[50/200]: loss_d: 0.404, loss_g: 3.265\n",
            "[51/200]: loss_d: 0.419, loss_g: 3.179\n",
            "[52/200]: loss_d: 0.392, loss_g: 3.312\n",
            "[53/200]: loss_d: 0.391, loss_g: 3.409\n",
            "[54/200]: loss_d: 0.377, loss_g: 3.399\n",
            "[55/200]: loss_d: 0.383, loss_g: 3.397\n",
            "[56/200]: loss_d: 0.352, loss_g: 3.506\n",
            "[57/200]: loss_d: 0.356, loss_g: 3.575\n",
            "[58/200]: loss_d: 0.337, loss_g: 3.650\n",
            "[59/200]: loss_d: 0.339, loss_g: 3.716\n",
            "[60/200]: loss_d: 0.323, loss_g: 3.753\n",
            "[61/200]: loss_d: 0.328, loss_g: 3.711\n",
            "[62/200]: loss_d: 0.324, loss_g: 3.780\n",
            "[63/200]: loss_d: 0.329, loss_g: 3.841\n",
            "[64/200]: loss_d: 0.318, loss_g: 3.874\n",
            "[65/200]: loss_d: 0.320, loss_g: 3.902\n",
            "[66/200]: loss_d: 0.327, loss_g: 3.803\n",
            "[67/200]: loss_d: 0.315, loss_g: 3.804\n",
            "[68/200]: loss_d: 0.317, loss_g: 3.925\n",
            "[69/200]: loss_d: 0.325, loss_g: 3.856\n",
            "[70/200]: loss_d: 0.301, loss_g: 3.958\n",
            "[71/200]: loss_d: 0.312, loss_g: 3.898\n",
            "[72/200]: loss_d: 0.312, loss_g: 3.957\n",
            "[73/200]: loss_d: 0.308, loss_g: 3.965\n",
            "[74/200]: loss_d: 0.302, loss_g: 4.008\n",
            "[75/200]: loss_d: 0.295, loss_g: 4.085\n",
            "[76/200]: loss_d: 0.295, loss_g: 3.992\n",
            "[77/200]: loss_d: 0.292, loss_g: 4.094\n",
            "[78/200]: loss_d: 0.294, loss_g: 4.096\n",
            "[79/200]: loss_d: 0.287, loss_g: 4.124\n",
            "[80/200]: loss_d: 0.285, loss_g: 4.208\n",
            "[81/200]: loss_d: 0.285, loss_g: 4.195\n",
            "[82/200]: loss_d: 0.278, loss_g: 4.126\n",
            "[83/200]: loss_d: 0.288, loss_g: 4.160\n",
            "[84/200]: loss_d: 0.278, loss_g: 4.102\n",
            "[85/200]: loss_d: 0.286, loss_g: 4.258\n",
            "[86/200]: loss_d: 0.289, loss_g: 4.101\n",
            "[87/200]: loss_d: 0.287, loss_g: 4.117\n",
            "[88/200]: loss_d: 0.282, loss_g: 4.082\n",
            "[89/200]: loss_d: 0.283, loss_g: 4.070\n",
            "[90/200]: loss_d: 0.275, loss_g: 4.055\n",
            "[91/200]: loss_d: 0.278, loss_g: 4.154\n",
            "[92/200]: loss_d: 0.290, loss_g: 4.159\n",
            "[93/200]: loss_d: 0.284, loss_g: 4.250\n",
            "[94/200]: loss_d: 0.273, loss_g: 4.218\n",
            "[95/200]: loss_d: 0.279, loss_g: 4.242\n",
            "[96/200]: loss_d: 0.267, loss_g: 4.209\n",
            "[97/200]: loss_d: 0.264, loss_g: 4.195\n",
            "[98/200]: loss_d: 0.278, loss_g: 4.256\n",
            "[99/200]: loss_d: 0.278, loss_g: 4.168\n",
            "[100/200]: loss_d: 0.281, loss_g: 4.283\n",
            "[101/200]: loss_d: 0.261, loss_g: 4.296\n",
            "[102/200]: loss_d: 0.279, loss_g: 4.212\n",
            "[103/200]: loss_d: 0.256, loss_g: 4.199\n",
            "[104/200]: loss_d: 0.282, loss_g: 4.221\n",
            "[105/200]: loss_d: 0.271, loss_g: 4.178\n",
            "[106/200]: loss_d: 0.273, loss_g: 4.160\n",
            "[107/200]: loss_d: 0.276, loss_g: 4.265\n",
            "[108/200]: loss_d: 0.274, loss_g: 4.265\n",
            "[109/200]: loss_d: 0.272, loss_g: 4.188\n",
            "[110/200]: loss_d: 0.277, loss_g: 4.234\n",
            "[111/200]: loss_d: 0.261, loss_g: 4.222\n",
            "[112/200]: loss_d: 0.265, loss_g: 4.312\n",
            "[113/200]: loss_d: 0.258, loss_g: 4.369\n",
            "[114/200]: loss_d: 0.264, loss_g: 4.351\n",
            "[115/200]: loss_d: 0.262, loss_g: 4.253\n",
            "[116/200]: loss_d: 0.267, loss_g: 4.267\n",
            "[117/200]: loss_d: 0.267, loss_g: 4.250\n",
            "[118/200]: loss_d: 0.268, loss_g: 4.395\n",
            "[119/200]: loss_d: 0.276, loss_g: 4.273\n",
            "[120/200]: loss_d: 0.259, loss_g: 4.168\n",
            "[121/200]: loss_d: 0.276, loss_g: 4.254\n",
            "[122/200]: loss_d: 0.260, loss_g: 4.269\n",
            "[123/200]: loss_d: 0.259, loss_g: 4.201\n",
            "[124/200]: loss_d: 0.291, loss_g: 4.314\n",
            "[125/200]: loss_d: 0.282, loss_g: 4.119\n",
            "[126/200]: loss_d: 0.278, loss_g: 4.202\n",
            "[127/200]: loss_d: 0.284, loss_g: 4.164\n",
            "[128/200]: loss_d: 0.288, loss_g: 4.114\n",
            "[129/200]: loss_d: 0.283, loss_g: 4.210\n",
            "[130/200]: loss_d: 0.276, loss_g: 4.119\n",
            "[131/200]: loss_d: 0.273, loss_g: 4.178\n",
            "[132/200]: loss_d: 0.279, loss_g: 4.191\n",
            "[133/200]: loss_d: 0.274, loss_g: 4.191\n",
            "[134/200]: loss_d: 0.272, loss_g: 4.208\n",
            "[135/200]: loss_d: 0.277, loss_g: 4.306\n",
            "[136/200]: loss_d: 0.269, loss_g: 4.072\n",
            "[137/200]: loss_d: 0.280, loss_g: 4.211\n",
            "[138/200]: loss_d: 0.298, loss_g: 4.178\n",
            "[139/200]: loss_d: 0.282, loss_g: 3.967\n",
            "[140/200]: loss_d: 0.286, loss_g: 4.151\n",
            "[141/200]: loss_d: 0.289, loss_g: 4.086\n",
            "[142/200]: loss_d: 0.276, loss_g: 4.177\n",
            "[143/200]: loss_d: 0.283, loss_g: 4.197\n",
            "[144/200]: loss_d: 0.279, loss_g: 4.047\n",
            "[145/200]: loss_d: 0.286, loss_g: 4.204\n",
            "[146/200]: loss_d: 0.288, loss_g: 4.171\n",
            "[147/200]: loss_d: 0.287, loss_g: 4.081\n",
            "[148/200]: loss_d: 0.289, loss_g: 4.194\n",
            "[149/200]: loss_d: 0.276, loss_g: 4.104\n",
            "[150/200]: loss_d: 0.295, loss_g: 4.097\n",
            "[151/200]: loss_d: 0.307, loss_g: 4.114\n",
            "[152/200]: loss_d: 0.293, loss_g: 4.012\n",
            "[153/200]: loss_d: 0.299, loss_g: 4.041\n",
            "[154/200]: loss_d: 0.293, loss_g: 4.086\n",
            "[155/200]: loss_d: 0.293, loss_g: 4.052\n",
            "[156/200]: loss_d: 0.296, loss_g: 3.951\n",
            "[157/200]: loss_d: 0.287, loss_g: 4.056\n",
            "[158/200]: loss_d: 0.314, loss_g: 4.016\n",
            "[159/200]: loss_d: 0.297, loss_g: 4.003\n",
            "[160/200]: loss_d: 0.308, loss_g: 3.912\n",
            "[161/200]: loss_d: 0.304, loss_g: 4.005\n",
            "[162/200]: loss_d: 0.298, loss_g: 3.936\n",
            "[163/200]: loss_d: 0.303, loss_g: 3.912\n",
            "[164/200]: loss_d: 0.317, loss_g: 4.057\n",
            "[165/200]: loss_d: 0.314, loss_g: 3.851\n",
            "[166/200]: loss_d: 0.314, loss_g: 3.912\n",
            "[167/200]: loss_d: 0.307, loss_g: 3.928\n",
            "[168/200]: loss_d: 0.310, loss_g: 4.103\n",
            "[169/200]: loss_d: 0.311, loss_g: 3.976\n",
            "[170/200]: loss_d: 0.292, loss_g: 4.004\n",
            "[171/200]: loss_d: 0.301, loss_g: 3.932\n",
            "[172/200]: loss_d: 0.292, loss_g: 4.015\n",
            "[173/200]: loss_d: 0.297, loss_g: 3.973\n",
            "[174/200]: loss_d: 0.306, loss_g: 3.981\n",
            "[175/200]: loss_d: 0.309, loss_g: 3.970\n",
            "[176/200]: loss_d: 0.310, loss_g: 3.997\n",
            "[177/200]: loss_d: 0.303, loss_g: 3.922\n",
            "[178/200]: loss_d: 0.298, loss_g: 3.991\n",
            "[179/200]: loss_d: 0.292, loss_g: 3.973\n",
            "[180/200]: loss_d: 0.308, loss_g: 4.016\n",
            "[181/200]: loss_d: 0.318, loss_g: 3.929\n",
            "[182/200]: loss_d: 0.313, loss_g: 3.882\n",
            "[183/200]: loss_d: 0.304, loss_g: 4.019\n",
            "[184/200]: loss_d: 0.311, loss_g: 3.904\n",
            "[185/200]: loss_d: 0.313, loss_g: 3.852\n",
            "[186/200]: loss_d: 0.303, loss_g: 3.883\n",
            "[187/200]: loss_d: 0.315, loss_g: 3.838\n",
            "[188/200]: loss_d: 0.316, loss_g: 3.893\n",
            "[189/200]: loss_d: 0.311, loss_g: 3.811\n",
            "[190/200]: loss_d: 0.324, loss_g: 3.763\n",
            "[191/200]: loss_d: 0.333, loss_g: 3.671\n",
            "[192/200]: loss_d: 0.346, loss_g: 3.785\n",
            "[193/200]: loss_d: 0.328, loss_g: 3.733\n",
            "[194/200]: loss_d: 0.322, loss_g: 3.803\n",
            "[195/200]: loss_d: 0.331, loss_g: 3.720\n",
            "[196/200]: loss_d: 0.338, loss_g: 3.796\n",
            "[197/200]: loss_d: 0.336, loss_g: 3.683\n",
            "[198/200]: loss_d: 0.343, loss_g: 3.739\n",
            "[199/200]: loss_d: 0.333, loss_g: 3.712\n",
            "[200/200]: loss_d: 0.328, loss_g: 3.739\n"
          ]
        }
      ]
    },
    {
      "cell_type": "markdown",
      "source": [
        "### 6. Generate a few images"
      ],
      "metadata": {
        "id": "eauHtheAjVCT"
      }
    },
    {
      "cell_type": "code",
      "source": [
        "\n",
        "with torch.no_grad():\n",
        "    test_z = Variable(torch.randn(batchSize, z_dim).to(device))\n",
        "    generated = G(test_z)\n",
        "\n",
        "image_data = generated.view(generated.size(0),1,28,28)\n",
        "print(image_data.shape)\n"
      ],
      "metadata": {
        "colab": {
          "base_uri": "https://localhost:8080/"
        },
        "id": "lJr56G7u87YR",
        "outputId": "fc650b8e-3af0-497b-92fd-2897879c9da9"
      },
      "execution_count": null,
      "outputs": [
        {
          "output_type": "stream",
          "name": "stdout",
          "text": [
            "torch.Size([100, 1, 28, 28])\n"
          ]
        }
      ]
    },
    {
      "cell_type": "markdown",
      "source": [
        "### 7. Visualize the generated 'fake-mnist' image"
      ],
      "metadata": {
        "id": "u0q4z4oWC6Ue"
      }
    },
    {
      "cell_type": "code",
      "source": [
        "\n",
        "import matplotlib.pyplot as plt\n",
        "\n",
        "count=1\n",
        "for i in range(9):\n",
        "    imd = image_data[i].view(28,28)\n",
        "    imd = imd.cpu()\n",
        "\n",
        "    plt.subplot(3,3,count)\n",
        "    plt.imshow(imd, cmap=plt.get_cmap('gray'))\n",
        "    count+=1\n",
        "\n",
        "plt.show()\n",
        "  \n",
        "    \n",
        "  \n"
      ],
      "metadata": {
        "colab": {
          "base_uri": "https://localhost:8080/",
          "height": 268
        },
        "id": "URn-P_m19YXy",
        "outputId": "30c5e76b-a010-4f81-ae38-1da1f77dcb90"
      },
      "execution_count": null,
      "outputs": [
        {
          "output_type": "display_data",
          "data": {
            "text/plain": [
              "<Figure size 432x288 with 9 Axes>"
            ],
            "image/png": "[encoded data removed]"
          },
          "metadata": {
            "needs_background": "light"
          }
        }
      ]
    }
  ]
}